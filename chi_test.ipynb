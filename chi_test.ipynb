{
 "cells": [
  {
   "cell_type": "code",
   "execution_count": 3,
   "metadata": {},
   "outputs": [
    {
     "data": {
      "text/html": [
       "<span style=\"font-family: monospace; color: #000\">2020-06-12 11:12:07 INFO  main  [xml.cpp:354] &quot;&lt;string&gt;&quot;: in-memory version upgrade (v2.0.0 -&gt; v2.1.0) ..</span>"
      ]
     },
     "metadata": {},
     "output_type": "display_data"
    },
    {
     "data": {
      "text/html": [
       "<span style=\"font-family: monospace; color: #000\">2020-06-12 11:12:07 INFO  main  [xml.cpp:354] &quot;&lt;string&gt;&quot;: in-memory version upgrade (v2.0.0 -&gt; v2.1.0) ..</span>"
      ]
     },
     "metadata": {},
     "output_type": "display_data"
    },
    {
     "data": {
      "text/html": [
       "<span style=\"font-family: monospace; color: #000\">2020-06-12 11:12:07 INFO  main  [xml.cpp:354] &quot;&lt;string&gt;&quot;: in-memory version upgrade (v2.0.0 -&gt; v2.1.0) ..</span>"
      ]
     },
     "metadata": {},
     "output_type": "display_data"
    },
    {
     "data": {
      "text/html": [
       "<span style=\"font-family: monospace; color: #000\">2020-06-12 11:12:07 INFO  main  [xml.cpp:354] &quot;&lt;string&gt;&quot;: in-memory version upgrade (v2.0.0 -&gt; v2.1.0) ..</span>"
      ]
     },
     "metadata": {},
     "output_type": "display_data"
    },
    {
     "data": {
      "text/html": [
       "<span style=\"font-family: monospace; color: #000\">2020-06-12 11:12:07 INFO  main  [xml.cpp:354] &quot;&lt;string&gt;&quot;: in-memory version upgrade (v2.0.0 -&gt; v2.1.0) ..</span>"
      ]
     },
     "metadata": {},
     "output_type": "display_data"
    },
    {
     "data": {
      "text/html": [
       "<span style=\"font-family: monospace; color: #000\">2020-06-12 11:12:07 INFO  main  [xml.cpp:354] &quot;&lt;string&gt;&quot;: in-memory version upgrade (v2.0.0 -&gt; v2.1.0) ..</span>"
      ]
     },
     "metadata": {},
     "output_type": "display_data"
    },
    {
     "data": {
      "text/html": [
       "<span style=\"font-family: monospace; color: #000\">2020-06-12 11:12:07 INFO  main  [xml.cpp:354] &quot;&lt;string&gt;&quot;: in-memory version upgrade (v2.0.0 -&gt; v2.1.0) ..</span>"
      ]
     },
     "metadata": {},
     "output_type": "display_data"
    },
    {
     "data": {
      "text/html": [
       "<span style=\"font-family: monospace; color: #000\">2020-06-12 11:12:07 INFO  main  [xml.cpp:354] &quot;&lt;string&gt;&quot;: in-memory version upgrade (v2.0.0 -&gt; v2.1.0) ..</span>"
      ]
     },
     "metadata": {},
     "output_type": "display_data"
    },
    {
     "data": {
      "text/html": [
       "<span style=\"font-family: monospace; color: #000\">2020-06-12 11:12:07 INFO  main  [xml.cpp:354] &quot;&lt;string&gt;&quot;: in-memory version upgrade (v2.0.0 -&gt; v2.1.0) ..</span>"
      ]
     },
     "metadata": {},
     "output_type": "display_data"
    },
    {
     "data": {
      "text/html": [
       "<span style=\"font-family: monospace; color: #000\">2020-06-12 11:12:07 INFO  main  [xml.cpp:354] &quot;&lt;string&gt;&quot;: in-memory version upgrade (v2.0.0 -&gt; v2.1.0) ..</span>"
      ]
     },
     "metadata": {},
     "output_type": "display_data"
    },
    {
     "data": {
      "text/html": [
       "<span style=\"font-family: monospace; color: #000\">2020-06-12 11:12:07 INFO  main  [xml.cpp:354] &quot;&lt;string&gt;&quot;: in-memory version upgrade (v2.0.0 -&gt; v2.1.0) ..</span>"
      ]
     },
     "metadata": {},
     "output_type": "display_data"
    },
    {
     "data": {
      "text/html": [
       "<span style=\"font-family: monospace; color: #000\">2020-06-12 11:12:07 INFO  main  [xml.cpp:354] &quot;&lt;string&gt;&quot;: in-memory version upgrade (v2.0.0 -&gt; v2.1.0) ..</span>"
      ]
     },
     "metadata": {},
     "output_type": "display_data"
    },
    {
     "data": {
      "text/html": [
       "<span style=\"font-family: monospace; color: #000\">2020-06-12 11:12:07 INFO  main  [xml.cpp:354] &quot;&lt;string&gt;&quot;: in-memory version upgrade (v2.0.0 -&gt; v2.1.0) ..</span>"
      ]
     },
     "metadata": {},
     "output_type": "display_data"
    },
    {
     "data": {
      "text/html": [
       "<span style=\"font-family: monospace; color: #000\">2020-06-12 11:12:07 INFO  main  [xml.cpp:354] &quot;&lt;string&gt;&quot;: in-memory version upgrade (v2.0.0 -&gt; v2.1.0) ..</span>"
      ]
     },
     "metadata": {},
     "output_type": "display_data"
    },
    {
     "data": {
      "text/html": [
       "<span style=\"font-family: monospace; color: #000\">2020-06-12 11:12:07 INFO  main  [xml.cpp:354] &quot;&lt;string&gt;&quot;: in-memory version upgrade (v2.0.0 -&gt; v2.1.0) ..</span>"
      ]
     },
     "metadata": {},
     "output_type": "display_data"
    },
    {
     "data": {
      "text/html": [
       "<span style=\"font-family: monospace; color: #000\">2020-06-12 11:12:07 INFO  main  [xml.cpp:354] &quot;&lt;string&gt;&quot;: in-memory version upgrade (v2.0.0 -&gt; v2.1.0) ..</span>"
      ]
     },
     "metadata": {},
     "output_type": "display_data"
    },
    {
     "data": {
      "text/html": [
       "<span style=\"font-family: monospace; color: #000\">2020-06-12 11:12:07 INFO  main  [xml.cpp:354] &quot;&lt;string&gt;&quot;: in-memory version upgrade (v2.0.0 -&gt; v2.1.0) ..</span>"
      ]
     },
     "metadata": {},
     "output_type": "display_data"
    },
    {
     "name": "stdout",
     "output_type": "stream",
     "text": [
      "Pooled 3501 low-valued cells into 369 cells to ensure sufficiently high expected cell frequencies\n",
      "Histogram sum = 0.999017 (55.22 ms), PDF sum = 0.998603 (375.23 ms)\n",
      "Chi^2 statistic = 8939554.301170 (d.o.f = 1917)\n",
      "***** Rejected ***** the null hypothesis (p-value = 0.000000, significance level = 0.010000). Target density and histogram were written to \"chi2_data.py\".\n",
      "\n"
     ]
    },
    {
     "ename": "AssertionError",
     "evalue": "",
     "output_type": "error",
     "traceback": [
      "\u001b[0;31m---------------------------------------------------------------------------\u001b[0m",
      "\u001b[0;31mAssertionError\u001b[0m                            Traceback (most recent call last)",
      "\u001b[0;32m<ipython-input-3-369b2950e3a9>\u001b[0m in \u001b[0;36m<module>\u001b[0;34m\u001b[0m\n\u001b[1;32m     23\u001b[0m )\n\u001b[1;32m     24\u001b[0m \u001b[0;34m\u001b[0m\u001b[0m\n\u001b[0;32m---> 25\u001b[0;31m \u001b[0;32massert\u001b[0m \u001b[0mchi2\u001b[0m\u001b[0;34m.\u001b[0m\u001b[0mrun\u001b[0m\u001b[0;34m(\u001b[0m\u001b[0;34m)\u001b[0m\u001b[0;34m\u001b[0m\u001b[0;34m\u001b[0m\u001b[0m\n\u001b[0m\u001b[1;32m     26\u001b[0m \u001b[0;34m\u001b[0m\u001b[0m\n\u001b[1;32m     27\u001b[0m \u001b[0;31m# Forces the chi2 test to dump the plotting script (optional)\u001b[0m\u001b[0;34m\u001b[0m\u001b[0;34m\u001b[0m\u001b[0;34m\u001b[0m\u001b[0m\n",
      "\u001b[0;31mAssertionError\u001b[0m: "
     ]
    }
   ],
   "source": [
    "import mitsuba\n",
    "import enoki as ek\n",
    "\n",
    "mitsuba.set_variant('packet_rgb')\n",
    "\n",
    "from mitsuba.python.chi2 import BSDFAdapter, ChiSquareTest, SphericalDomain\n",
    "\n",
    "xml = \"\"\"<float name=\"alpha\" value=\"0\" />\n",
    "         <float name=\"beta_m\" value=\"0.25\" />\n",
    "         <float name=\"beta_n\" value=\"0.25\" />\n",
    "         <float name=\"eta\" value=\"1.55\" />\n",
    "         <float name=\"eumelanin\" value=\"0.3\" />\n",
    "         <float name=\"pheomelanin\" value=\"0.0\"/>\n",
    "         <float name=\"h_xml\" value=\"-0.6\"/>\"\"\"\n",
    "wi = ek.normalize([0.2, -0.6, -0.5])\n",
    "sample_func, pdf_func = BSDFAdapter(\"hairbsdf\", xml, wi=wi)\n",
    "\n",
    "chi2 = ChiSquareTest(\n",
    "    domain=SphericalDomain(),\n",
    "    sample_func=sample_func,\n",
    "    pdf_func=pdf_func,\n",
    "    sample_dim=3\n",
    ")\n",
    "\n",
    "assert chi2.run()\n",
    "\n",
    "# Forces the chi2 test to dump the plotting script (optional)\n",
    "chi2._dump_tables()"
   ]
  }
 ],
 "metadata": {
  "kernelspec": {
   "display_name": "Python 3",
   "language": "python",
   "name": "python3"
  },
  "language_info": {
   "codemirror_mode": {
    "name": "ipython",
    "version": 3
   },
   "file_extension": ".py",
   "mimetype": "text/x-python",
   "name": "python",
   "nbconvert_exporter": "python",
   "pygments_lexer": "ipython3",
   "version": "3.7.3"
  }
 },
 "nbformat": 4,
 "nbformat_minor": 2
}
