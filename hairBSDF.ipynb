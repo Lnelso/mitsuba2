{
 "cells": [
  {
   "cell_type": "code",
   "execution_count": 1,
   "metadata": {},
   "outputs": [],
   "source": [
    "import enoki as ek\n",
    "import mitsuba\n",
    "\n",
    "# Set the desired mitsuba variant\n",
    "mitsuba.set_variant('scalar_rgb')\n",
    "\n",
    "from mitsuba.core import Float, Vector3f\n",
    "from mitsuba.core.xml import load_string\n",
    "from mitsuba.render import SurfaceInteraction3f, BSDFContext"
   ]
  },
  {
   "cell_type": "code",
   "execution_count": 2,
   "metadata": {},
   "outputs": [],
   "source": [
    "def sph_dir(theta, phi):\n",
    "    \"\"\" Map spherical to Euclidean coordinates \"\"\"\n",
    "    st, ct = ek.sincos(theta)\n",
    "    sp, cp = ek.sincos(phi)\n",
    "    x = cp * st\n",
    "    y = sp * st\n",
    "    z = ct\n",
    "    return Vector3f(x, y, z)"
   ]
  },
  {
   "cell_type": "code",
   "execution_count": 3,
   "metadata": {},
   "outputs": [
    {
     "data": {
      "text/html": [
       "<span style=\"font-family: monospace; color: #000\">2020-05-11 09:54:28 INFO  main  [PluginManager] Loading plugin &quot;plugins/roughconductor.dylib&quot; ..</span>"
      ]
     },
     "metadata": {},
     "output_type": "display_data"
    },
    {
     "data": {
      "text/html": [
       "<span style=\"font-family: monospace; color: #000\">2020-05-11 09:54:28 INFO  main  [PluginManager] Loading plugin &quot;plugins/uniform.dylib&quot; ..</span>"
      ]
     },
     "metadata": {},
     "output_type": "display_data"
    },
    {
     "ename": "TypeError",
     "evalue": "__init__(): incompatible constructor arguments. The following argument types are supported:\n    1. enoki.scalar.Vector3f()\n    2. enoki.scalar.Vector3f(arg0: float)\n    3. enoki.scalar.Vector3f(arg0: enoki.scalar.Vector3f)\n    4. enoki.scalar.Vector3f(arg0: ndarray)\n    5. enoki.scalar.Vector3f(arg0: torch_tensor)\n    6. enoki.scalar.Vector3f(arg0: list)\n    7. enoki.scalar.Vector3f(arg0: tuple)\n    8. enoki.scalar.Vector3f(x: float, y: float, z: float)\n    9. enoki.scalar.Vector3f(arg0: enoki.scalar.Vector3d)\n    10. enoki.scalar.Vector3f(arg0: enoki.scalar.Vector3u)\n    11. enoki.scalar.Vector3f(arg0: enoki.scalar.Vector3i)\n\nInvoked with: [0], [0], [1]",
     "output_type": "error",
     "traceback": [
      "\u001b[0;31m---------------------------------------------------------------------------\u001b[0m",
      "\u001b[0;31mTypeError\u001b[0m                                 Traceback (most recent call last)",
      "\u001b[0;32m<ipython-input-3-049d4e8529ca>\u001b[0m in \u001b[0;36m<module>\u001b[0;34m\u001b[0m\n\u001b[1;32m     18\u001b[0m )\n\u001b[1;32m     19\u001b[0m \u001b[0;34m\u001b[0m\u001b[0m\n\u001b[0;32m---> 20\u001b[0;31m \u001b[0mwo\u001b[0m \u001b[0;34m=\u001b[0m \u001b[0msph_dir\u001b[0m\u001b[0;34m(\u001b[0m\u001b[0mtheta_o\u001b[0m\u001b[0;34m,\u001b[0m \u001b[0mphi_o\u001b[0m\u001b[0;34m)\u001b[0m\u001b[0;34m\u001b[0m\u001b[0;34m\u001b[0m\u001b[0m\n\u001b[0m\u001b[1;32m     21\u001b[0m \u001b[0;34m\u001b[0m\u001b[0m\n\u001b[1;32m     22\u001b[0m \u001b[0;31m# Evaluate the whole array (18000 directions) at once\u001b[0m\u001b[0;34m\u001b[0m\u001b[0;34m\u001b[0m\u001b[0;34m\u001b[0m\u001b[0m\n",
      "\u001b[0;32m<ipython-input-2-0a491471291a>\u001b[0m in \u001b[0;36msph_dir\u001b[0;34m(theta, phi)\u001b[0m\n\u001b[1;32m      6\u001b[0m     \u001b[0my\u001b[0m \u001b[0;34m=\u001b[0m \u001b[0msp\u001b[0m \u001b[0;34m*\u001b[0m \u001b[0mst\u001b[0m\u001b[0;34m\u001b[0m\u001b[0;34m\u001b[0m\u001b[0m\n\u001b[1;32m      7\u001b[0m     \u001b[0mz\u001b[0m \u001b[0;34m=\u001b[0m \u001b[0mct\u001b[0m\u001b[0;34m\u001b[0m\u001b[0;34m\u001b[0m\u001b[0m\n\u001b[0;32m----> 8\u001b[0;31m     \u001b[0;32mreturn\u001b[0m \u001b[0mVector3f\u001b[0m\u001b[0;34m(\u001b[0m\u001b[0mx\u001b[0m\u001b[0;34m,\u001b[0m \u001b[0my\u001b[0m\u001b[0;34m,\u001b[0m \u001b[0mz\u001b[0m\u001b[0;34m)\u001b[0m\u001b[0;34m\u001b[0m\u001b[0;34m\u001b[0m\u001b[0m\n\u001b[0m",
      "\u001b[0;31mTypeError\u001b[0m: __init__(): incompatible constructor arguments. The following argument types are supported:\n    1. enoki.scalar.Vector3f()\n    2. enoki.scalar.Vector3f(arg0: float)\n    3. enoki.scalar.Vector3f(arg0: enoki.scalar.Vector3f)\n    4. enoki.scalar.Vector3f(arg0: ndarray)\n    5. enoki.scalar.Vector3f(arg0: torch_tensor)\n    6. enoki.scalar.Vector3f(arg0: list)\n    7. enoki.scalar.Vector3f(arg0: tuple)\n    8. enoki.scalar.Vector3f(x: float, y: float, z: float)\n    9. enoki.scalar.Vector3f(arg0: enoki.scalar.Vector3d)\n    10. enoki.scalar.Vector3f(arg0: enoki.scalar.Vector3u)\n    11. enoki.scalar.Vector3f(arg0: enoki.scalar.Vector3i)\n\nInvoked with: [0], [0], [1]"
     ]
    }
   ],
   "source": [
    "# Load desired BSDF plugin\n",
    "bsdf = load_string(\"\"\"<bsdf version='2.0.0' type='roughconductor'>\n",
    "                          <float name=\"alpha\" value=\"0.2\"/>\n",
    "                          <string name=\"distribution\" value=\"ggx\"/>\n",
    "                      </bsdf>\"\"\")\n",
    "\n",
    "# Create a (dummy) surface interaction to use for the evaluation\n",
    "si = SurfaceInteraction3f()\n",
    "\n",
    "# Specify an incident direction with 45 degrees elevation\n",
    "si.wi = sph_dir(ek.pi * 45 / 180, 0.0)\n",
    "\n",
    "# Create grid in spherical coordinates and map it onto the sphere\n",
    "res = 300\n",
    "theta_o, phi_o = ek.meshgrid(\n",
    "    ek.linspace(float, 0,     ek.pi,     res),\n",
    "    ek.linspace(float, 0, 2 * ek.pi, 2 * res)\n",
    ")\n",
    "\n",
    "wo = sph_dir(theta_o, phi_o)\n",
    "\n",
    "# Evaluate the whole array (18000 directions) at once\n",
    "values = bsdf.eval(BSDFContext(), si, wo)"
   ]
  },
  {
   "cell_type": "code",
   "execution_count": null,
   "metadata": {},
   "outputs": [],
   "source": [
    "import numpy as np\n",
    "import matplotlib.pyplot as plt\n",
    "from mpl_toolkits.axes_grid1 import make_axes_locatable\n",
    "\n",
    "# Extract red channel of BRDF values and reshape into 2D grid\n",
    "values_r = np.array(values)[:, 0]\n",
    "values_r = values_r.reshape(2 * res, res).T\n",
    "\n",
    "# Plot values for spherical coordinates\n",
    "fig, ax = plt.subplots(figsize=(12, 7))\n",
    "\n",
    "im = ax.imshow(values_r, extent=[0, 2 * np.pi, np.pi, 0],\n",
    "               cmap='jet', interpolation='bicubic')\n",
    "\n",
    "ax.set_xlabel(r'$\\phi_o$', size=14)\n",
    "ax.set_xticks([0, np.pi, 2 * np.pi])\n",
    "ax.set_xticklabels(['0', '$\\\\pi$', '$2\\\\pi$'])\n",
    "ax.set_ylabel(r'$\\theta_o$', size=14)\n",
    "ax.set_yticks([0, np.pi / 2, np.pi])\n",
    "ax.set_yticklabels(['0', '$\\\\pi/2$', '$\\\\pi$'])\n",
    "\n",
    "divider = make_axes_locatable(ax)\n",
    "cax = divider.append_axes(\"right\", size=\"3%\", pad=0.05)\n",
    "plt.colorbar(im, cax=cax)\n",
    "\n",
    "fig.savefig(\"bsdf_eval.jpg\", dpi=150, bbox_inches='tight', pad_inches=0)\n",
    "plt.show()"
   ]
  }
 ],
 "metadata": {
  "kernelspec": {
   "display_name": "Python 3",
   "language": "python",
   "name": "python3"
  },
  "language_info": {
   "codemirror_mode": {
    "name": "ipython",
    "version": 3
   },
   "file_extension": ".py",
   "mimetype": "text/x-python",
   "name": "python",
   "nbconvert_exporter": "python",
   "pygments_lexer": "ipython3",
   "version": "3.7.3"
  }
 },
 "nbformat": 4,
 "nbformat_minor": 2
}
