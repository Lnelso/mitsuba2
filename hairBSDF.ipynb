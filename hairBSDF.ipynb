{
 "cells": [
  {
   "cell_type": "code",
   "execution_count": 1,
   "metadata": {},
   "outputs": [
    {
     "ename": "ModuleNotFoundError",
     "evalue": "No module named 'enoki'",
     "output_type": "error",
     "traceback": [
      "\u001b[0;31m---------------------------------------------------------------------------\u001b[0m",
      "\u001b[0;31mModuleNotFoundError\u001b[0m                       Traceback (most recent call last)",
      "\u001b[0;32m<ipython-input-1-2d823e8e5d98>\u001b[0m in \u001b[0;36m<module>\u001b[0;34m\u001b[0m\n\u001b[0;32m----> 1\u001b[0;31m \u001b[0;32mimport\u001b[0m \u001b[0menoki\u001b[0m \u001b[0;32mas\u001b[0m \u001b[0mek\u001b[0m\u001b[0;34m\u001b[0m\u001b[0;34m\u001b[0m\u001b[0m\n\u001b[0m\u001b[1;32m      2\u001b[0m \u001b[0;32mimport\u001b[0m \u001b[0mmitsuba\u001b[0m\u001b[0;34m\u001b[0m\u001b[0;34m\u001b[0m\u001b[0m\n\u001b[1;32m      3\u001b[0m \u001b[0;34m\u001b[0m\u001b[0m\n\u001b[1;32m      4\u001b[0m \u001b[0;31m# Set the desired mitsuba variant\u001b[0m\u001b[0;34m\u001b[0m\u001b[0;34m\u001b[0m\u001b[0;34m\u001b[0m\u001b[0m\n\u001b[1;32m      5\u001b[0m \u001b[0mmitsuba\u001b[0m\u001b[0;34m.\u001b[0m\u001b[0mset_variant\u001b[0m\u001b[0;34m(\u001b[0m\u001b[0;34m'packet_rgb'\u001b[0m\u001b[0;34m)\u001b[0m\u001b[0;34m\u001b[0m\u001b[0;34m\u001b[0m\u001b[0m\n",
      "\u001b[0;31mModuleNotFoundError\u001b[0m: No module named 'enoki'"
     ]
    }
   ],
   "source": [
    "import enoki as ek\n",
    "import mitsuba\n",
    "\n",
    "# Set the desired mitsuba variant\n",
    "mitsuba.set_variant('packet_rgb')\n",
    "\n",
    "from mitsuba.core import Float, Vector3f\n",
    "from mitsuba.core.xml import load_string\n",
    "from mitsuba.render import SurfaceInteraction3f, BSDFContext"
   ]
  },
  {
   "cell_type": "code",
   "execution_count": null,
   "metadata": {},
   "outputs": [],
   "source": [
    "def sph_dir(theta, phi):\n",
    "    \"\"\" Map spherical to Euclidean coordinates \"\"\"\n",
    "    st, ct = ek.sincos(theta)\n",
    "    sp, cp = ek.sincos(phi)\n",
    "    return Vector3f(cp * st, sp * st, ct)"
   ]
  },
  {
   "cell_type": "code",
   "execution_count": null,
   "metadata": {},
   "outputs": [],
   "source": [
    "# Load desired BSDF plugin\n",
    "bsdf = load_string(\"\"\"<bsdf version='2.0.0' type='roughconductor'>\n",
    "                          <float name=\"alpha\" value=\"0.2\"/>\n",
    "                          <string name=\"distribution\" value=\"ggx\"/>\n",
    "                      </bsdf>\"\"\")\n",
    "\n",
    "# Create a (dummy) surface interaction to use for the evaluation\n",
    "si = SurfaceInteraction3f()\n",
    "\n",
    "# Specify an incident direction with 45 degrees elevation\n",
    "si.wi = sph_dir(ek.pi * 45 / 180, 0.0)\n",
    "\n",
    "# Create grid in spherical coordinates and map it onto the sphere\n",
    "res = 300\n",
    "theta_o, phi_o = ek.meshgrid(\n",
    "    ek.linspace(Float, 0,     ek.pi,     res),\n",
    "    ek.linspace(Float, 0, 2 * ek.pi, 2 * res)\n",
    ")\n",
    "wo = sph_dir(theta_o, phi_o)\n",
    "\n",
    "# Evaluate the whole array (18000 directions) at once\n",
    "values = bsdf.eval(BSDFContext(), si, wo)"
   ]
  },
  {
   "cell_type": "code",
   "execution_count": null,
   "metadata": {},
   "outputs": [],
   "source": [
    "import numpy as np\n",
    "import matplotlib.pyplot as plt\n",
    "from mpl_toolkits.axes_grid1 import make_axes_locatable\n",
    "\n",
    "# Extract red channel of BRDF values and reshape into 2D grid\n",
    "values_r = np.array(values)[:, 0]\n",
    "values_r = values_r.reshape(2 * res, res).T\n",
    "\n",
    "# Plot values for spherical coordinates\n",
    "fig, ax = plt.subplots(figsize=(12, 7))\n",
    "\n",
    "im = ax.imshow(values_r, extent=[0, 2 * np.pi, np.pi, 0],\n",
    "               cmap='jet', interpolation='bicubic')\n",
    "\n",
    "ax.set_xlabel(r'$\\phi_o$', size=14)\n",
    "ax.set_xticks([0, np.pi, 2 * np.pi])\n",
    "ax.set_xticklabels(['0', '$\\\\pi$', '$2\\\\pi$'])\n",
    "ax.set_ylabel(r'$\\theta_o$', size=14)\n",
    "ax.set_yticks([0, np.pi / 2, np.pi])\n",
    "ax.set_yticklabels(['0', '$\\\\pi/2$', '$\\\\pi$'])\n",
    "\n",
    "divider = make_axes_locatable(ax)\n",
    "cax = divider.append_axes(\"right\", size=\"3%\", pad=0.05)\n",
    "plt.colorbar(im, cax=cax)\n",
    "\n",
    "fig.savefig(\"bsdf_eval.jpg\", dpi=150, bbox_inches='tight', pad_inches=0)\n",
    "plt.show()"
   ]
  }
 ],
 "metadata": {
  "kernelspec": {
   "display_name": "Python 3",
   "language": "python",
   "name": "python3"
  },
  "language_info": {
   "codemirror_mode": {
    "name": "ipython",
    "version": 3
   },
   "file_extension": ".py",
   "mimetype": "text/x-python",
   "name": "python",
   "nbconvert_exporter": "python",
   "pygments_lexer": "ipython3",
   "version": "3.7.3"
  }
 },
 "nbformat": 4,
 "nbformat_minor": 2
}
